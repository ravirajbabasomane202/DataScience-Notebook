{
 "cells": [
  {
   "cell_type": "markdown",
   "id": "0eeb7607",
   "metadata": {},
   "source": [
    "# Data Science Tools and Ecosystem"
   ]
  },
  {
   "cell_type": "markdown",
   "id": "1b403c61",
   "metadata": {},
   "source": [
    "In this notebook, Data Science Tools and Ecosystem are summarized."
   ]
  },
  {
   "cell_type": "markdown",
   "id": "995cb69d",
   "metadata": {},
   "source": [
    "Some of the popular languages that Data Scientists use are:\n",
    "1. Python  \n",
    "2. R  \n",
    "3. SQL\n",
    "4. Scala\n",
    "5. Java\n",
    "6. c++\n",
    "7. Julia\n",
    "8. JavaScript\n",
    "9. PHP\n",
    "10. Go\n",
    "11. Ruby\n",
    "12. Visual Basic  \n"
   ]
  },
  {
   "cell_type": "markdown",
   "id": "0c15f053",
   "metadata": {},
   "source": [
    "Some of the commonly used libraries used by Data Scientists include:\n",
    "1. Pandas  \n",
    "2. NumPy\n",
    "3. Matplotlib\n",
    "4. Seaborn  \n",
    "5. Scikit-learn\n",
    "6. Keras\n",
    "7. Tensorflow\n",
    "8. PyTorch\n",
    "9. Apache Spark\n",
    "10. Vegas\n",
    "11. Big DL\n",
    "12. Ggplot2  \n"
   ]
  },
  {
   "cell_type": "markdown",
   "id": "760e96a7",
   "metadata": {},
   "source": [
    "| Data Science Tools       |\n",
    "|--------------------------|\n",
    "| Jupyter Notebook         |\n",
    "| RStudio                  |\n",
    "| Anaconda                 |\n",
    "| Spyder                   |\n",
    "| Zeppelin                 |"
   ]
  },
  {
   "cell_type": "markdown",
   "id": "e42665e2",
   "metadata": {},
   "source": [
    "### Below are a few examples of evaluating arithmetic expressions in Python."
   ]
  },
  {
   "cell_type": "code",
   "execution_count": 1,
   "id": "34da343b",
   "metadata": {},
   "outputs": [
    {
     "data": {
      "text/plain": [
       "17"
      ]
     },
     "execution_count": 1,
     "metadata": {},
     "output_type": "execute_result"
    }
   ],
   "source": [
    "# This is a simple arithmetic expression to multiply then add integers\n",
    "(3 * 4) + 5"
   ]
  },
  {
   "cell_type": "code",
   "execution_count": 2,
   "id": "6af0a527",
   "metadata": {},
   "outputs": [
    {
     "data": {
      "text/plain": [
       "3.3333333333333335"
      ]
     },
     "execution_count": 2,
     "metadata": {},
     "output_type": "execute_result"
    }
   ],
   "source": [
    "# This will convert 200 minutes to hours by dividing by 60\n",
    "200 / 60"
   ]
  },
  {
   "cell_type": "markdown",
   "id": "dab01a0f",
   "metadata": {},
   "source": [
    "**Objectives:**\n",
    "- List popular languages for Data Science\n",
    "- List commonly used libraries by Data Scientists\n",
    "- Create markdown and code cells\n",
    "- Perform arithmetic operations in Python\n",
    "- Create and share Jupyter Notebooks via GitHub\n"
   ]
  },
  {
   "cell_type": "markdown",
   "id": "6f584137",
   "metadata": {},
   "source": [
    "## Author  \n",
    "Raviraj mane"
   ]
  }
 ],
 "metadata": {
  "kernelspec": {
   "display_name": "Python 3",
   "language": "python",
   "name": "python3"
  },
  "language_info": {
   "codemirror_mode": {
    "name": "ipython",
    "version": 3
   },
   "file_extension": ".py",
   "mimetype": "text/x-python",
   "name": "python",
   "nbconvert_exporter": "python",
   "pygments_lexer": "ipython3",
   "version": "3.12.6"
  }
 },
 "nbformat": 4,
 "nbformat_minor": 5
}
